{
  "nbformat": 4,
  "nbformat_minor": 0,
  "metadata": {
    "colab": {
      "provenance": []
    },
    "kernelspec": {
      "name": "python3",
      "display_name": "Python 3"
    }
  },
  "cells": [
    {
      "cell_type": "code",
      "metadata": {
        "id": "XtJ4eUW-Vtew",
        "colab": {
          "base_uri": "https://localhost:8080/"
        },
        "outputId": "365f90ad-d330-48c1-ca74-b583585de62a"
      },
      "source": [
        "from sklearn.datasets import fetch_openml\n",
        "# Load data from https://www.openml.org/d/554\n",
        "X, y = fetch_openml('mnist_784',version=1,return_X_y=True)\n",
        "X = X / 255\n",
        "\n",
        "# rescale the data, use the traditional train/test split\n",
        "# (60K: Train) and (10K: Test)\n",
        "X_train, X_test = X[:60000], X[60000:]\n",
        "y_train, y_test = y[:60000], y[60000:]\n",
        "\n",
        "\n",
        "from sklearn.neighbors import KNeighborsClassifier\n",
        "from sklearn.metrics import accuracy_score\n"
      ],
      "execution_count": 2,
      "outputs": [
        {
          "output_type": "stream",
          "name": "stderr",
          "text": [
            "/usr/local/lib/python3.8/dist-packages/sklearn/datasets/_openml.py:932: FutureWarning: The default value of `parser` will change from `'liac-arff'` to `'auto'` in 1.4. You can set `parser='auto'` to silence this warning. Therefore, an `ImportError` will be raised from 1.4 if the dataset is dense and pandas is not installed. Note that the pandas parser may return different data types. See the Notes Section in fetch_openml's API doc for details.\n",
            "  warn(\n"
          ]
        }
      ]
    },
    {
      "cell_type": "code",
      "source": [
        "class KNNEvaluation():\n",
        "    def __init__(self, **kwargs):\n",
        "        self.classifier = KNeighborsClassifier(**kwargs)\n",
        "        self.error_rate = None\n",
        "        self.parameters = kwargs\n",
        "        self.predictions = None\n",
        "\n",
        "    def run(self):\n",
        "        self.classifier.fit(X_train, y_train)\n",
        "        self.predictions = self.classifier.predict(X_test)\n",
        "\n",
        "        accuracy = accuracy_score(y_test, self.predictions)\n",
        "        self.error_rate = 1 - accuracy \n",
        "\n",
        "        print(f'Error rate for parameters {self.parameters} = {self.error_rate}')"
      ],
      "metadata": {
        "id": "rex-glTQ68F9"
      },
      "execution_count": 5,
      "outputs": []
    },
    {
      "cell_type": "code",
      "source": [
        "knn = KNNEvaluation(n_neighbors=5, weights='uniform', algorithm='auto')\n",
        "knn.run()"
      ],
      "metadata": {
        "colab": {
          "base_uri": "https://localhost:8080/"
        },
        "id": "HU4aEGgyJ7q_",
        "outputId": "5cbc0b13-a292-4d4d-8df7-246ad8ebb39c"
      },
      "execution_count": 6,
      "outputs": [
        {
          "output_type": "stream",
          "name": "stdout",
          "text": [
            "Error rate for parameters {'n_neighbors': 5, 'weights': 'uniform', 'algorithm': 'auto'} = 0.031200000000000006\n"
          ]
        }
      ]
    },
    {
      "cell_type": "code",
      "source": [
        "knn = KNNEvaluation(n_neighbors=10, weights='uniform', algorithm='auto')\n",
        "knn.run()"
      ],
      "metadata": {
        "colab": {
          "base_uri": "https://localhost:8080/"
        },
        "id": "fHeDU9f10-aR",
        "outputId": "f17fd4ae-97e5-4fe7-dd00-b47e44e85537"
      },
      "execution_count": 7,
      "outputs": [
        {
          "output_type": "stream",
          "name": "stdout",
          "text": [
            "Error rate for parameters {'n_neighbors': 10, 'weights': 'uniform', 'algorithm': 'auto'} = 0.033499999999999974\n"
          ]
        }
      ]
    },
    {
      "cell_type": "code",
      "source": [
        "knn = KNNEvaluation(n_neighbors=5, weights='distance', algorithm='ball_tree', p=1)\n",
        "knn.run()"
      ],
      "metadata": {
        "colab": {
          "base_uri": "https://localhost:8080/"
        },
        "id": "EQu4ofrO0-rF",
        "outputId": "f5f11e4d-e73f-4bd8-c700-a70708f4d770"
      },
      "execution_count": 8,
      "outputs": [
        {
          "output_type": "stream",
          "name": "stdout",
          "text": [
            "Error rate for parameters {'n_neighbors': 5, 'weights': 'distance', 'algorithm': 'ball_tree', 'p': 1} = 0.03710000000000002\n"
          ]
        }
      ]
    },
    {
      "cell_type": "code",
      "source": [
        "knn = KNNEvaluation(n_neighbors=10, weights='uniform', algorithm='brute', p=2)\n",
        "knn.run()"
      ],
      "metadata": {
        "colab": {
          "base_uri": "https://localhost:8080/"
        },
        "id": "YNi__0EJ0-4c",
        "outputId": "a5ed4c80-d531-4205-82de-6fb5897b6d99"
      },
      "execution_count": 9,
      "outputs": [
        {
          "output_type": "stream",
          "name": "stdout",
          "text": [
            "Error rate for parameters {'n_neighbors': 10, 'weights': 'uniform', 'algorithm': 'brute', 'p': 2} = 0.033499999999999974\n"
          ]
        }
      ]
    },
    {
      "cell_type": "code",
      "source": [
        "knn = KNNEvaluation(n_neighbors=10, weights='uniform', algorithm='ball_tree')\n",
        "knn.run()"
      ],
      "metadata": {
        "colab": {
          "base_uri": "https://localhost:8080/"
        },
        "id": "H9B23jnL0_DK",
        "outputId": "4556afdc-5f90-455f-b860-54501ede98a0"
      },
      "execution_count": 10,
      "outputs": [
        {
          "output_type": "stream",
          "name": "stdout",
          "text": [
            "Error rate for parameters {'n_neighbors': 10, 'weights': 'uniform', 'algorithm': 'ball_tree'} = 0.033499999999999974\n"
          ]
        }
      ]
    },
    {
      "cell_type": "code",
      "source": [
        "knn = KNNEvaluation(n_neighbors=10, weights='distance', algorithm='brute', p=2)\n",
        "knn.run()"
      ],
      "metadata": {
        "colab": {
          "base_uri": "https://localhost:8080/"
        },
        "id": "-nf5CKGD0_Nt",
        "outputId": "b44d83d9-a10a-42f0-f35b-de6bb3f81171"
      },
      "execution_count": 11,
      "outputs": [
        {
          "output_type": "stream",
          "name": "stdout",
          "text": [
            "Error rate for parameters {'n_neighbors': 10, 'weights': 'distance', 'algorithm': 'brute', 'p': 2} = 0.03159999999999996\n"
          ]
        }
      ]
    },
    {
      "cell_type": "code",
      "source": [
        "knn = KNNEvaluation(n_neighbors=5, weights='uniform', algorithm='brute', p=1)\n",
        "knn.run()"
      ],
      "metadata": {
        "colab": {
          "base_uri": "https://localhost:8080/"
        },
        "id": "ar8bMNYx0_X6",
        "outputId": "643c31b7-d07e-4687-f715-28c050a85b90"
      },
      "execution_count": 12,
      "outputs": [
        {
          "output_type": "stream",
          "name": "stdout",
          "text": [
            "Error rate for parameters {'n_neighbors': 5, 'weights': 'uniform', 'algorithm': 'brute', 'p': 1} = 0.03820000000000001\n"
          ]
        }
      ]
    },
    {
      "cell_type": "code",
      "source": [
        "knn = KNNEvaluation(n_neighbors=10, weights='uniform', algorithm='kd_tree')\n",
        "knn.run()"
      ],
      "metadata": {
        "colab": {
          "base_uri": "https://localhost:8080/"
        },
        "id": "nP2nnyI60_jy",
        "outputId": "4eb0f725-8359-48df-d6c6-68214f664798"
      },
      "execution_count": 13,
      "outputs": [
        {
          "output_type": "stream",
          "name": "stdout",
          "text": [
            "Error rate for parameters {'n_neighbors': 10, 'weights': 'uniform', 'algorithm': 'kd_tree'} = 0.033499999999999974\n"
          ]
        }
      ]
    },
    {
      "cell_type": "code",
      "source": [
        "knn = KNNEvaluation(n_neighbors=5, weights='distance', algorithm='kd_tree')\n",
        "knn.run()"
      ],
      "metadata": {
        "colab": {
          "base_uri": "https://localhost:8080/"
        },
        "id": "LFjBihx70_uw",
        "outputId": "168cfa4e-9f76-4dda-e90d-ccd0d85c7c84"
      },
      "execution_count": 14,
      "outputs": [
        {
          "output_type": "stream",
          "name": "stdout",
          "text": [
            "Error rate for parameters {'n_neighbors': 5, 'weights': 'distance', 'algorithm': 'kd_tree'} = 0.03090000000000004\n"
          ]
        }
      ]
    },
    {
      "cell_type": "code",
      "source": [
        "knn = KNNEvaluation(n_neighbors=5, weights='uniform', algorithm='brute', p=2)\n",
        "knn.run()"
      ],
      "metadata": {
        "colab": {
          "base_uri": "https://localhost:8080/"
        },
        "id": "y1YZaaW-0_7P",
        "outputId": "73930dcc-cc84-42d1-f1e9-5d4c7fe8dcdb"
      },
      "execution_count": 15,
      "outputs": [
        {
          "output_type": "stream",
          "name": "stdout",
          "text": [
            "Error rate for parameters {'n_neighbors': 5, 'weights': 'uniform', 'algorithm': 'brute', 'p': 2} = 0.031200000000000006\n"
          ]
        }
      ]
    },
    {
      "cell_type": "code",
      "source": [],
      "metadata": {
        "id": "KWmsjTfx3ZzH"
      },
      "execution_count": null,
      "outputs": []
    }
  ]
}