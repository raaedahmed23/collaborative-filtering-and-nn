{
  "nbformat": 4,
  "nbformat_minor": 0,
  "metadata": {
    "colab": {
      "provenance": []
    },
    "kernelspec": {
      "name": "python3",
      "display_name": "Python 3"
    },
    "language_info": {
      "name": "python"
    }
  },
  "cells": [
    {
      "cell_type": "code",
      "execution_count": 1,
      "metadata": {
        "colab": {
          "base_uri": "https://localhost:8080/"
        },
        "id": "Ub3BQDvT5Sby",
        "outputId": "8a894788-712a-4c42-e628-2508ae5320f9"
      },
      "outputs": [
        {
          "output_type": "stream",
          "name": "stderr",
          "text": [
            "/usr/local/lib/python3.8/dist-packages/sklearn/datasets/_openml.py:932: FutureWarning: The default value of `parser` will change from `'liac-arff'` to `'auto'` in 1.4. You can set `parser='auto'` to silence this warning. Therefore, an `ImportError` will be raised from 1.4 if the dataset is dense and pandas is not installed. Note that the pandas parser may return different data types. See the Notes Section in fetch_openml's API doc for details.\n",
            "  warn(\n"
          ]
        }
      ],
      "source": [
        "from sklearn.datasets import fetch_openml\n",
        "# Load data from https://www.openml.org/d/554\n",
        "X, y = fetch_openml('mnist_784', version=1, return_X_y=True)\n",
        "X = X / 255.\n",
        "# rescale the data, use the traditional train/test split\n",
        "# (60K: Train) and (10K: Test)\n",
        "X_train, X_test = X[:60000], X[60000:]\n",
        "y_train, y_test = y[:60000], y[60000:]\n",
        "\n",
        "\n",
        "from sklearn.neural_network import MLPClassifier\n",
        "from sklearn.metrics import accuracy_score"
      ]
    },
    {
      "cell_type": "code",
      "source": [
        "class MLPEvaluation():\n",
        "    def __init__(self, **kwargs):\n",
        "        self.classifier = MLPClassifier(**kwargs)\n",
        "        self.error_rate = None\n",
        "        self.parameters = kwargs\n",
        "        self.predictions = None\n",
        "\n",
        "    def run(self):\n",
        "        self.classifier.fit(X_train, y_train)\n",
        "        self.predictions = self.classifier.predict(X_test)\n",
        "\n",
        "        accuracy = accuracy_score(y_test, self.predictions)\n",
        "        self.error_rate = 1 - accuracy \n",
        "\n",
        "        print(f'Error rate for parameters {self.parameters} = {self.error_rate}')"
      ],
      "metadata": {
        "id": "dVuQuXmQ5wFB"
      },
      "execution_count": 2,
      "outputs": []
    },
    {
      "cell_type": "code",
      "source": [
        "mlp = MLPEvaluation(hidden_layer_sizes=(5,), activation='relu', solver='lbfgs', max_iter=1000)\n",
        "mlp.run()"
      ],
      "metadata": {
        "id": "Q7NL1Q2JJ5XQ",
        "colab": {
          "base_uri": "https://localhost:8080/"
        },
        "outputId": "b211a78d-6162-406b-9b1f-9228f0f2f8e0"
      },
      "execution_count": 3,
      "outputs": [
        {
          "output_type": "stream",
          "name": "stdout",
          "text": [
            "Error rate for parameters {'hidden_layer_sizes': (5,), 'activation': 'relu', 'solver': 'lbfgs', 'max_iter': 1000} = 0.17769999999999997\n"
          ]
        },
        {
          "output_type": "stream",
          "name": "stderr",
          "text": [
            "/usr/local/lib/python3.8/dist-packages/sklearn/neural_network/_multilayer_perceptron.py:541: ConvergenceWarning: lbfgs failed to converge (status=1):\n",
            "STOP: TOTAL NO. of ITERATIONS REACHED LIMIT.\n",
            "\n",
            "Increase the number of iterations (max_iter) or scale the data as shown in:\n",
            "    https://scikit-learn.org/stable/modules/preprocessing.html\n",
            "  self.n_iter_ = _check_optimize_result(\"lbfgs\", opt_res, self.max_iter)\n"
          ]
        }
      ]
    },
    {
      "cell_type": "code",
      "source": [
        "mlp = MLPEvaluation(hidden_layer_sizes=(50,), activation='logistic', solver='sgd', max_iter=100)\n",
        "mlp.run()"
      ],
      "metadata": {
        "id": "JwkrXFohC9z_",
        "colab": {
          "base_uri": "https://localhost:8080/"
        },
        "outputId": "a5767fca-8849-4866-c719-b02788606d27"
      },
      "execution_count": 4,
      "outputs": [
        {
          "output_type": "stream",
          "name": "stdout",
          "text": [
            "Error rate for parameters {'hidden_layer_sizes': (50,), 'activation': 'logistic', 'solver': 'sgd', 'max_iter': 100} = 0.07450000000000001\n"
          ]
        },
        {
          "output_type": "stream",
          "name": "stderr",
          "text": [
            "/usr/local/lib/python3.8/dist-packages/sklearn/neural_network/_multilayer_perceptron.py:684: ConvergenceWarning: Stochastic Optimizer: Maximum iterations (100) reached and the optimization hasn't converged yet.\n",
            "  warnings.warn(\n"
          ]
        }
      ]
    },
    {
      "cell_type": "code",
      "source": [
        "mlp = MLPEvaluation(hidden_layer_sizes=(20, 20, 20), activation='relu', solver='lbfgs', max_iter=2000)\n",
        "mlp.run()"
      ],
      "metadata": {
        "id": "2NGozJy9C-Ww",
        "colab": {
          "base_uri": "https://localhost:8080/"
        },
        "outputId": "79e881af-327c-4ba7-f66f-7b32679638b7"
      },
      "execution_count": 5,
      "outputs": [
        {
          "output_type": "stream",
          "name": "stdout",
          "text": [
            "Error rate for parameters {'hidden_layer_sizes': (20, 20, 20), 'activation': 'relu', 'solver': 'lbfgs', 'max_iter': 2000} = 0.058499999999999996\n"
          ]
        },
        {
          "output_type": "stream",
          "name": "stderr",
          "text": [
            "/usr/local/lib/python3.8/dist-packages/sklearn/neural_network/_multilayer_perceptron.py:541: ConvergenceWarning: lbfgs failed to converge (status=1):\n",
            "STOP: TOTAL NO. of ITERATIONS REACHED LIMIT.\n",
            "\n",
            "Increase the number of iterations (max_iter) or scale the data as shown in:\n",
            "    https://scikit-learn.org/stable/modules/preprocessing.html\n",
            "  self.n_iter_ = _check_optimize_result(\"lbfgs\", opt_res, self.max_iter)\n"
          ]
        }
      ]
    },
    {
      "cell_type": "code",
      "source": [
        "mlp = MLPEvaluation(hidden_layer_sizes=(10, 10), activation='tanh', solver='adam', max_iter=500)\n",
        "mlp.run()"
      ],
      "metadata": {
        "id": "m7_avZvyC-s9",
        "colab": {
          "base_uri": "https://localhost:8080/"
        },
        "outputId": "76e7c072-c502-41a6-a927-2d200696fbd5"
      },
      "execution_count": 6,
      "outputs": [
        {
          "output_type": "stream",
          "name": "stdout",
          "text": [
            "Error rate for parameters {'hidden_layer_sizes': (10, 10), 'activation': 'tanh', 'solver': 'adam', 'max_iter': 500} = 0.07050000000000001\n"
          ]
        }
      ]
    },
    {
      "cell_type": "code",
      "source": [
        "mlp = MLPEvaluation(hidden_layer_sizes=(30, 30), activation='logistic', solver='sgd', max_iter=200)\n",
        "mlp.run()"
      ],
      "metadata": {
        "id": "OGKF-Ns-C-6e",
        "colab": {
          "base_uri": "https://localhost:8080/"
        },
        "outputId": "4918505f-8dd2-4fbe-be40-15d3f74c9a95"
      },
      "execution_count": 7,
      "outputs": [
        {
          "output_type": "stream",
          "name": "stdout",
          "text": [
            "Error rate for parameters {'hidden_layer_sizes': (30, 30), 'activation': 'logistic', 'solver': 'sgd', 'max_iter': 200} = 0.07169999999999999\n"
          ]
        },
        {
          "output_type": "stream",
          "name": "stderr",
          "text": [
            "/usr/local/lib/python3.8/dist-packages/sklearn/neural_network/_multilayer_perceptron.py:684: ConvergenceWarning: Stochastic Optimizer: Maximum iterations (200) reached and the optimization hasn't converged yet.\n",
            "  warnings.warn(\n"
          ]
        }
      ]
    },
    {
      "cell_type": "code",
      "source": [
        "mlp = MLPEvaluation(hidden_layer_sizes=(5,), activation='identity', solver='lbfgs', max_iter=1000)\n",
        "mlp.run()"
      ],
      "metadata": {
        "id": "31CdPH9NC_Sg",
        "colab": {
          "base_uri": "https://localhost:8080/"
        },
        "outputId": "b89298a3-5fc8-4550-9a34-2e80ff4f07fb"
      },
      "execution_count": 8,
      "outputs": [
        {
          "output_type": "stream",
          "name": "stdout",
          "text": [
            "Error rate for parameters {'hidden_layer_sizes': (5,), 'activation': 'identity', 'solver': 'lbfgs', 'max_iter': 1000} = 0.09799999999999998\n"
          ]
        },
        {
          "output_type": "stream",
          "name": "stderr",
          "text": [
            "/usr/local/lib/python3.8/dist-packages/sklearn/neural_network/_multilayer_perceptron.py:541: ConvergenceWarning: lbfgs failed to converge (status=1):\n",
            "STOP: TOTAL NO. of ITERATIONS REACHED LIMIT.\n",
            "\n",
            "Increase the number of iterations (max_iter) or scale the data as shown in:\n",
            "    https://scikit-learn.org/stable/modules/preprocessing.html\n",
            "  self.n_iter_ = _check_optimize_result(\"lbfgs\", opt_res, self.max_iter)\n"
          ]
        }
      ]
    },
    {
      "cell_type": "code",
      "source": [
        "mlp = MLPEvaluation(hidden_layer_sizes=(100,), activation='relu', solver='adam', max_iter=1000)\n",
        "mlp.run()"
      ],
      "metadata": {
        "id": "54m0-gSoDAw8",
        "colab": {
          "base_uri": "https://localhost:8080/"
        },
        "outputId": "5f1bfcf8-860f-474f-9d26-fe48aca61eff"
      },
      "execution_count": 9,
      "outputs": [
        {
          "output_type": "stream",
          "name": "stdout",
          "text": [
            "Error rate for parameters {'hidden_layer_sizes': (100,), 'activation': 'relu', 'solver': 'adam', 'max_iter': 1000} = 0.021700000000000053\n"
          ]
        }
      ]
    },
    {
      "cell_type": "code",
      "source": [
        "mlp = MLPEvaluation(hidden_layer_sizes=(25,), activation='relu', solver='adam', max_iter=2000)\n",
        "mlp.run()"
      ],
      "metadata": {
        "id": "ujj1RzbUDA-N",
        "colab": {
          "base_uri": "https://localhost:8080/"
        },
        "outputId": "c353eaf3-dfe7-4641-e4e3-09c6e8f067f5"
      },
      "execution_count": 10,
      "outputs": [
        {
          "output_type": "stream",
          "name": "stdout",
          "text": [
            "Error rate for parameters {'hidden_layer_sizes': (25,), 'activation': 'relu', 'solver': 'adam', 'max_iter': 2000} = 0.03859999999999997\n"
          ]
        }
      ]
    },
    {
      "cell_type": "code",
      "source": [
        "mlp = MLPEvaluation(hidden_layer_sizes=(10, 5), activation='tanh', solver='lbfgs', max_iter=500)\n",
        "mlp.run()"
      ],
      "metadata": {
        "id": "hjRuGkopDBK1",
        "colab": {
          "base_uri": "https://localhost:8080/"
        },
        "outputId": "3bf4bba2-a73a-48e4-bbf0-fbf916bb16b7"
      },
      "execution_count": 11,
      "outputs": [
        {
          "output_type": "stream",
          "name": "stdout",
          "text": [
            "Error rate for parameters {'hidden_layer_sizes': (10, 5), 'activation': 'tanh', 'solver': 'lbfgs', 'max_iter': 500} = 0.07950000000000002\n"
          ]
        },
        {
          "output_type": "stream",
          "name": "stderr",
          "text": [
            "/usr/local/lib/python3.8/dist-packages/sklearn/neural_network/_multilayer_perceptron.py:541: ConvergenceWarning: lbfgs failed to converge (status=1):\n",
            "STOP: TOTAL NO. of ITERATIONS REACHED LIMIT.\n",
            "\n",
            "Increase the number of iterations (max_iter) or scale the data as shown in:\n",
            "    https://scikit-learn.org/stable/modules/preprocessing.html\n",
            "  self.n_iter_ = _check_optimize_result(\"lbfgs\", opt_res, self.max_iter)\n"
          ]
        }
      ]
    },
    {
      "cell_type": "code",
      "source": [
        "mlp = MLPEvaluation(hidden_layer_sizes=(5,), activation='logistic', solver='lbfgs', max_iter=500)\n",
        "mlp.run()"
      ],
      "metadata": {
        "id": "0zf2ZvdYDBZ0",
        "colab": {
          "base_uri": "https://localhost:8080/"
        },
        "outputId": "a874896c-56ca-4e48-99f4-48759ae7592e"
      },
      "execution_count": 12,
      "outputs": [
        {
          "output_type": "stream",
          "name": "stdout",
          "text": [
            "Error rate for parameters {'hidden_layer_sizes': (5,), 'activation': 'logistic', 'solver': 'lbfgs', 'max_iter': 500} = 0.09970000000000001\n"
          ]
        },
        {
          "output_type": "stream",
          "name": "stderr",
          "text": [
            "/usr/local/lib/python3.8/dist-packages/sklearn/neural_network/_multilayer_perceptron.py:541: ConvergenceWarning: lbfgs failed to converge (status=1):\n",
            "STOP: TOTAL NO. of ITERATIONS REACHED LIMIT.\n",
            "\n",
            "Increase the number of iterations (max_iter) or scale the data as shown in:\n",
            "    https://scikit-learn.org/stable/modules/preprocessing.html\n",
            "  self.n_iter_ = _check_optimize_result(\"lbfgs\", opt_res, self.max_iter)\n"
          ]
        }
      ]
    },
    {
      "cell_type": "code",
      "source": [],
      "metadata": {
        "id": "3A7QJAHezACn"
      },
      "execution_count": null,
      "outputs": []
    }
  ]
}