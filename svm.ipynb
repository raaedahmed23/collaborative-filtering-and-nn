{
  "cells": [
    {
      "cell_type": "code",
      "execution_count": 1,
      "metadata": {
        "colab": {
          "base_uri": "https://localhost:8080/"
        },
        "id": "nzZlhnYC4ofN",
        "outputId": "66176e9a-97cf-4a69-aae1-4931794ddf41"
      },
      "outputs": [
        {
          "output_type": "stream",
          "name": "stderr",
          "text": [
            "/usr/local/lib/python3.8/dist-packages/sklearn/datasets/_openml.py:932: FutureWarning: The default value of `parser` will change from `'liac-arff'` to `'auto'` in 1.4. You can set `parser='auto'` to silence this warning. Therefore, an `ImportError` will be raised from 1.4 if the dataset is dense and pandas is not installed. Note that the pandas parser may return different data types. See the Notes Section in fetch_openml's API doc for details.\n",
            "  warn(\n"
          ]
        }
      ],
      "source": [
        "from sklearn.datasets import fetch_openml\n",
        "# Load data from https://www.openml.org/d/554\n",
        "X, y = fetch_openml('mnist_784', version=1, return_X_y=True)\n",
        "X = X / 255.\n",
        "# rescale the data, use the traditional train/test split\n",
        "# (60K: Train) and (10K: Test)\n",
        "X_train, X_test = X[:60000], X[60000:]\n",
        "y_train, y_test = y[:60000], y[60000:]\n",
        "\n",
        "\n",
        "from sklearn.svm import SVC\n",
        "from sklearn.metrics import accuracy_score"
      ]
    },
    {
      "cell_type": "code",
      "execution_count": 2,
      "metadata": {
        "id": "a2r8UmU_4rSf"
      },
      "outputs": [],
      "source": [
        "class SVCEvaluation():\n",
        "    def __init__(self, **kwargs):\n",
        "        self.classifier = SVC(**kwargs)\n",
        "        self.error_rate = None\n",
        "        self.predictions = None\n",
        "        self.parameters = kwargs\n",
        "\n",
        "    def run(self):\n",
        "        self.classifier.fit(X_train, y_train)\n",
        "        self.predictions = self.classifier.predict(X_test)\n",
        "\n",
        "        accuracy = accuracy_score(y_test, self.predictions)\n",
        "        self.error_rate = 1 - accuracy\n",
        "\n",
        "        print(f'Error rate for parameters {self.parameters} = {self.error_rate}')"
      ]
    },
    {
      "cell_type": "code",
      "execution_count": null,
      "metadata": {
        "colab": {
          "base_uri": "https://localhost:8080/"
        },
        "id": "Ec72Jx8w5Cqx",
        "outputId": "22410442-283c-4c28-b896-3e92a687fc27"
      },
      "outputs": [
        {
          "name": "stdout",
          "output_type": "stream",
          "text": [
            "Error rate for parameters {'kernel': 'linear', 'C': 2.0} = 0.061899999999999955\n"
          ]
        }
      ],
      "source": [
        "svm = SVCEvaluation(kernel = 'linear', C = 2.0)\n",
        "svm.run()"
      ]
    },
    {
      "cell_type": "code",
      "execution_count": null,
      "metadata": {
        "colab": {
          "background_save": true
        },
        "id": "bgDrneUM7ER3",
        "outputId": "358b9718-184f-4d05-a7b4-dce6f91b277e"
      },
      "outputs": [
        {
          "name": "stdout",
          "output_type": "stream",
          "text": [
            "Error rate for parameters {'C': 1, 'kernel': 'rbf', 'gamma': 0.1} = 0.04490000000000005\n"
          ]
        }
      ],
      "source": [
        "svm = SVCEvaluation(C=1, kernel='rbf', gamma=0.1)\n",
        "svm.run()"
      ]
    },
    {
      "cell_type": "code",
      "execution_count": null,
      "metadata": {
        "colab": {
          "background_save": true
        },
        "id": "0QTZY11O4tyy",
        "outputId": "72515faa-e4c2-4ce3-8b5b-fd88392d6d28"
      },
      "outputs": [
        {
          "name": "stdout",
          "output_type": "stream",
          "text": [
            "Error rate for parameters {'C': 0.1, 'kernel': 'poly', 'degree': 2} = 0.0403\n"
          ]
        }
      ],
      "source": [
        "svm = SVCEvaluation(C=0.1, kernel='poly', degree=2)\n",
        "svm.run()"
      ]
    },
    {
      "cell_type": "code",
      "execution_count": null,
      "metadata": {
        "colab": {
          "background_save": true
        },
        "id": "yLMVxW8I4wvp",
        "outputId": "e75275fc-6b67-4f31-89dc-f0a71f2acf10"
      },
      "outputs": [
        {
          "name": "stdout",
          "output_type": "stream",
          "text": [
            "Error rate for parameters {'C': 10, 'kernel': 'sigmoid'} = 0.2328\n"
          ]
        }
      ],
      "source": [
        "svm = SVCEvaluation(C=10, kernel='sigmoid')\n",
        "svm.run()"
      ]
    },
    {
      "cell_type": "code",
      "execution_count": null,
      "metadata": {
        "colab": {
          "background_save": true
        },
        "id": "KK6nbnbn4w55",
        "outputId": "3b98642b-3be6-4402-e344-01e80569bf11"
      },
      "outputs": [
        {
          "name": "stdout",
          "output_type": "stream",
          "text": [
            "Error rate for parameters {'C': 100, 'kernel': 'linear', 'class_weight': 'balanced'} = 0.07469999999999999\n"
          ]
        }
      ],
      "source": [
        "svm = SVCEvaluation(C=100, kernel='linear', class_weight='balanced')\n",
        "svm.run()"
      ]
    },
    {
      "cell_type": "code",
      "execution_count": null,
      "metadata": {
        "colab": {
          "background_save": true
        },
        "id": "S19LLURc4xAr",
        "outputId": "acdca005-d439-41bd-c1c4-8df52002f290"
      },
      "outputs": [
        {
          "name": "stdout",
          "output_type": "stream",
          "text": [
            "Error rate for parameters {'C': 1, 'kernel': 'poly', 'degree': 3, 'coef0': 1.0} = 0.01870000000000005\n"
          ]
        }
      ],
      "source": [
        "svm = SVCEvaluation(C=1, kernel='poly', degree=3, coef0=1.0)\n",
        "svm.run()"
      ]
    },
    {
      "cell_type": "code",
      "execution_count": 4,
      "metadata": {
        "colab": {
          "base_uri": "https://localhost:8080/"
        },
        "id": "0eoetfIl4xM1",
        "outputId": "b2705c32-19f8-4765-a019-7bb12331d2df"
      },
      "outputs": [
        {
          "output_type": "stream",
          "name": "stdout",
          "text": [
            "Error rate for parameters {'C': 0.1, 'kernel': 'rbf', 'gamma': 'scale'} = 0.04049999999999998\n"
          ]
        }
      ],
      "source": [
        "svm = SVCEvaluation(C=0.1, kernel='rbf', gamma='scale')\n",
        "svm.run()"
      ]
    },
    {
      "cell_type": "code",
      "execution_count": 5,
      "metadata": {
        "colab": {
          "base_uri": "https://localhost:8080/"
        },
        "id": "HcGHIM6_4zBG",
        "outputId": "72d18ee1-20e0-49c6-c7aa-f08d5ffeb1db"
      },
      "outputs": [
        {
          "output_type": "stream",
          "name": "stdout",
          "text": [
            "Error rate for parameters {'C': 10, 'kernel': 'sigmoid', 'gamma': 0.01, 'coef0': 0.5} = 0.239\n"
          ]
        }
      ],
      "source": [
        "svm = SVCEvaluation(C=10, kernel='sigmoid', gamma=0.01, coef0=0.5)\n",
        "svm.run()"
      ]
    },
    {
      "cell_type": "code",
      "execution_count": 6,
      "metadata": {
        "colab": {
          "base_uri": "https://localhost:8080/"
        },
        "id": "EwMu_r5N4zEE",
        "outputId": "404365f2-e0a2-4877-9b72-49b97f7adafe"
      },
      "outputs": [
        {
          "output_type": "stream",
          "name": "stdout",
          "text": [
            "Error rate for parameters {'C': 100, 'kernel': 'rbf', 'gamma': 'scale', 'class_weight': 'balanced'} = 0.016700000000000048\n"
          ]
        }
      ],
      "source": [
        "svm = SVCEvaluation(C=100, kernel='rbf', gamma='scale', class_weight='balanced')\n",
        "svm.run()"
      ]
    },
    {
      "cell_type": "code",
      "execution_count": 7,
      "metadata": {
        "id": "dnTnIds7_Am9",
        "colab": {
          "base_uri": "https://localhost:8080/"
        },
        "outputId": "a295e363-64df-481b-92ac-aff055ea6738"
      },
      "outputs": [
        {
          "output_type": "stream",
          "name": "stdout",
          "text": [
            "Error rate for parameters {'C': 0.01, 'kernel': 'linear', 'gamma': 'scale'} = 0.05569999999999997\n"
          ]
        }
      ],
      "source": [
        "svm = SVCEvaluation(C=0.01, kernel='linear', gamma='scale')\n",
        "svm.run()"
      ]
    },
    {
      "cell_type": "code",
      "source": [],
      "metadata": {
        "id": "YzgrLlP70jJ9"
      },
      "execution_count": null,
      "outputs": []
    }
  ],
  "metadata": {
    "colab": {
      "provenance": []
    },
    "kernelspec": {
      "display_name": "Python 3",
      "name": "python3"
    },
    "language_info": {
      "name": "python"
    }
  },
  "nbformat": 4,
  "nbformat_minor": 0
}