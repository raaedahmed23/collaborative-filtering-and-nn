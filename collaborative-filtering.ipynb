{
 "cells": [
  {
   "cell_type": "code",
   "execution_count": 2,
   "metadata": {},
   "outputs": [],
   "source": [
    "import numpy as np\n",
    "import pandas as pd\n",
    "\n",
    "from sklearn.metrics import mean_absolute_error\n",
    "from sklearn.metrics import mean_squared_error \n",
    "from sklearn.neighbors import NearestNeighbors"
   ]
  },
  {
   "cell_type": "code",
   "execution_count": 47,
   "metadata": {},
   "outputs": [
    {
     "name": "stdout",
     "output_type": "stream",
     "text": [
      "100477\n"
     ]
    }
   ],
   "source": [
    "TRAINING_PATH = './netflix/TrainingRatings.txt'\n",
    "TEST_PATH = './netflix/TestingRatings.txt'\n",
    "\n",
    "dfTest = pd.read_csv(TEST_PATH)\n",
    "dfTest.columns = ['movie', 'user', 'rating']\n",
    "\n",
    "dfTrain = pd.read_csv(TRAINING_PATH)\n",
    "dfTrain.columns = ['movie', 'user', 'rating']\n",
    "print(len(dfTest))"
   ]
  },
  {
   "cell_type": "code",
   "execution_count": 4,
   "metadata": {},
   "outputs": [],
   "source": [
    "dfTrain0 = dfTrain.pivot_table(index = 'user', columns = 'movie', values = 'rating', fill_value= float(0)).astype('float32')\n",
    "dfTrainNa = dfTrain.pivot_table(index = 'user', columns = 'movie', values = 'rating').astype('float32')"
   ]
  },
  {
   "cell_type": "code",
   "execution_count": 5,
   "metadata": {},
   "outputs": [],
   "source": [
    "def to_boolean(df):\n",
    "    return (df > 0).astype('float32')\n",
    "\n",
    "def row_mean(df):\n",
    "    return np.nan_to_num(np.nanmean(df, axis=1).reshape((len(df), 1)))\n",
    "\n",
    "def mean_matrix(df):\n",
    "    global dfTrainMean\n",
    "\n",
    "    dfTrainMean = row_mean(df)\n",
    "    return dfTrainMean * to_boolean(df)\n",
    "\n",
    "def normalize_rating(df0, dfNa):\n",
    "    return df0 - mean_matrix(dfNa)\n",
    "\n",
    "boolean_matrix = to_boolean(dfTrainNa)\n",
    "\n",
    "dfTrainNormalized = normalize_rating(dfTrain0, dfTrainNa)"
   ]
  },
  {
   "cell_type": "code",
   "execution_count": 6,
   "metadata": {},
   "outputs": [],
   "source": [
    "train_arr = np.asarray(dfTrain0)\n",
    "normalized_train_arr = np.asarray(dfTrainNormalized)\n",
    "index_arr = dfTrainNormalized.index # contains user index"
   ]
  },
  {
   "cell_type": "code",
   "execution_count": 7,
   "metadata": {},
   "outputs": [],
   "source": [
    "nbrs = NearestNeighbors(n_neighbors = 20, algorithm = 'ball_tree').fit(normalized_train_arr)"
   ]
  },
  {
   "cell_type": "code",
   "execution_count": 8,
   "metadata": {},
   "outputs": [],
   "source": [
    "def nearest_neighbors(user_arr):\n",
    "    distances, indices = nbrs.kneighbors(user_arr)\n",
    "\n",
    "    return indices[0][:]"
   ]
  },
  {
   "cell_type": "code",
   "execution_count": 45,
   "metadata": {},
   "outputs": [],
   "source": [
    "computed_weights = dict() "
   ]
  },
  {
   "cell_type": "code",
   "execution_count": 46,
   "metadata": {},
   "outputs": [],
   "source": [
    "def get_weights(active_user, other_users, active_user_id):\n",
    "    \n",
    "    if active_user in computed_weights: \n",
    "        return computed_weights[active_user_id]\n",
    "\n",
    "    dot_product = np.multiply(np.asarray(active_user), np.asarray(other_users))\n",
    "    numerator = np.sum(dot_product, axis = 1)\n",
    "\n",
    "    i, j = np.nonzero(dot_product)\n",
    "\n",
    "    if len(i) + len(j) == 0: \n",
    "        return np.zeros(len(other_users))\n",
    "       \n",
    "    active_user = np.tile(active_user, (len(other_users), 1))\n",
    "    other_users = np.asarray(other_users)\n",
    "    common_active_user = [active_user[x, j[x == i]] for x in range(active_user.shape[0])]\n",
    "    common_other_users = [other_users[x, j[x == i]] for x in range(other_users.shape[0])] \n",
    "\n",
    "    sq_cau = np.array([np.square(row) for row in common_active_user], dtype = object).reshape(len(other_users), -1)\n",
    "    sq_cou = np.array([np.square(row) for row in common_other_users], dtype = object).reshape(len(other_users), -1)\n",
    "\n",
    "    sq_cau_sum = np.array([sum(sum(row)) for row in sq_cau])\n",
    "    sq_cou_sum = np.array([sum(sum(row)) for row in sq_cou])\n",
    "   \n",
    "    denominator = np.sqrt(np.multiply(sq_cau_sum, sq_cou_sum))\n",
    "    with np.errstate(divide='ignore', invalid='ignore'):\n",
    "        weights = np.divide(numerator, denominator)\n",
    "\n",
    "    computed_weights[active_user_id] = np.nan_to_num(weights)\n",
    "    return np.nan_to_num(weights) "
   ]
  },
  {
   "cell_type": "code",
   "execution_count": 10,
   "metadata": {},
   "outputs": [],
   "source": [
    "# weights needs to be a (1, n) array \n",
    "# find the dot product between the users, get the index of the non zero elements. Use these elements to get the denominator. \n",
    "def predict(df, user_id, movie_id):\n",
    "    total = 0.0\n",
    "    kappa = 0.0\n",
    "    user_mean = dfTrainMean[list(index_arr).index(user_id)][0]\n",
    "\n",
    "    prediction = user_mean\n",
    "\n",
    "    # print(sum(df.loc[user_id, : ]))\n",
    "    weights = get_weights(df.loc[user_id, :], df, user_id)\n",
    "    kappa = np.sum(np.abs(weights))\n",
    "\n",
    "    movie_ratings = np.array(df[movie_id])\n",
    "    total = np.dot(weights.T, movie_ratings)\n",
    "    \n",
    "    if kappa != 0:\n",
    "        prediction = user_mean + (total / kappa)\n",
    "    \n",
    "    return prediction"
   ]
  },
  {
   "cell_type": "code",
   "execution_count": 48,
   "metadata": {},
   "outputs": [
    {
     "data": {
      "text/plain": [
       "1005"
      ]
     },
     "execution_count": 48,
     "metadata": {},
     "output_type": "execute_result"
    }
   ],
   "source": [
    "dfTest = dfTest.sample(frac = 0.01, random_state=42).reset_index(drop=True)\n",
    "len(dfTest)"
   ]
  },
  {
   "cell_type": "code",
   "execution_count": 49,
   "metadata": {},
   "outputs": [
    {
     "data": {
      "text/plain": [
       "988"
      ]
     },
     "execution_count": 49,
     "metadata": {},
     "output_type": "execute_result"
    }
   ],
   "source": [
    "len(np.unique(dfTest['user'].values))"
   ]
  },
  {
   "cell_type": "code",
   "execution_count": 42,
   "metadata": {},
   "outputs": [],
   "source": [
    "computed_neighbors = dict()"
   ]
  },
  {
   "cell_type": "code",
   "execution_count": 50,
   "metadata": {},
   "outputs": [
    {
     "ename": "TypeError",
     "evalue": "unhashable type: 'Series'",
     "output_type": "error",
     "traceback": [
      "\u001b[0;31m---------------------------------------------------------------------------\u001b[0m",
      "\u001b[0;31mTypeError\u001b[0m                                 Traceback (most recent call last)",
      "Cell \u001b[0;32mIn[50], line 14\u001b[0m\n\u001b[1;32m     10\u001b[0m     computed_neighbors[active_user] \u001b[39m=\u001b[39m indices_nn\n\u001b[1;32m     12\u001b[0m dfNN \u001b[39m=\u001b[39m pd\u001b[39m.\u001b[39mDataFrame(normalized_train_arr[indices_nn], index \u001b[39m=\u001b[39m index_arr[indices_nn], columns \u001b[39m=\u001b[39m dfTrain0\u001b[39m.\u001b[39mcolumns)\n\u001b[0;32m---> 14\u001b[0m prediction \u001b[39m=\u001b[39m predict(dfNN, \u001b[39mgetattr\u001b[39;49m(row, \u001b[39m'\u001b[39;49m\u001b[39muser\u001b[39;49m\u001b[39m'\u001b[39;49m), \u001b[39mgetattr\u001b[39;49m(row, \u001b[39m'\u001b[39;49m\u001b[39mmovie\u001b[39;49m\u001b[39m'\u001b[39;49m))\n\u001b[1;32m     15\u001b[0m predictions\u001b[39m.\u001b[39mappend(prediction)\n\u001b[1;32m     17\u001b[0m count \u001b[39m+\u001b[39m\u001b[39m=\u001b[39m \u001b[39m1\u001b[39m\n",
      "Cell \u001b[0;32mIn[10], line 12\u001b[0m, in \u001b[0;36mpredict\u001b[0;34m(df, user_id, movie_id)\u001b[0m\n\u001b[1;32m      9\u001b[0m prediction \u001b[39m=\u001b[39m user_mean\n\u001b[1;32m     11\u001b[0m \u001b[39m# print(sum(df.loc[user_id, : ]))\u001b[39;00m\n\u001b[0;32m---> 12\u001b[0m weights \u001b[39m=\u001b[39m get_weights(df\u001b[39m.\u001b[39;49mloc[user_id, :], df)\n\u001b[1;32m     13\u001b[0m kappa \u001b[39m=\u001b[39m np\u001b[39m.\u001b[39msum(np\u001b[39m.\u001b[39mabs(weights))\n\u001b[1;32m     15\u001b[0m movie_ratings \u001b[39m=\u001b[39m np\u001b[39m.\u001b[39marray(df[movie_id])\n",
      "Cell \u001b[0;32mIn[46], line 3\u001b[0m, in \u001b[0;36mget_weights\u001b[0;34m(active_user, other_users)\u001b[0m\n\u001b[1;32m      1\u001b[0m \u001b[39mdef\u001b[39;00m \u001b[39mget_weights\u001b[39m(active_user, other_users):\n\u001b[0;32m----> 3\u001b[0m     \u001b[39mif\u001b[39;00m active_user \u001b[39min\u001b[39;49;00m computed_weights: \n\u001b[1;32m      4\u001b[0m         \u001b[39mreturn\u001b[39;00m computed_weights[active_user]\n\u001b[1;32m      6\u001b[0m     dot_product \u001b[39m=\u001b[39m np\u001b[39m.\u001b[39mmultiply(np\u001b[39m.\u001b[39masarray(active_user), np\u001b[39m.\u001b[39masarray(other_users))\n",
      "\u001b[0;31mTypeError\u001b[0m: unhashable type: 'Series'"
     ]
    }
   ],
   "source": [
    "count = 0\n",
    "predictions = [] \n",
    "for row in dfTest.itertuples():\n",
    "    active_user = getattr(row, 'user')\n",
    "    \n",
    "    if active_user in computed_neighbors:\n",
    "        indices_nn = computed_neighbors[active_user]\n",
    "    else:\n",
    "        indices_nn = nearest_neighbors(dfTrainNormalized.loc[active_user].values.reshape(1, -1))\n",
    "        computed_neighbors[active_user] = indices_nn\n",
    "\n",
    "    dfNN = pd.DataFrame(normalized_train_arr[indices_nn], index = index_arr[indices_nn], columns = dfTrain0.columns)\n",
    "\n",
    "    prediction = predict(dfNN, getattr(row, 'user'), getattr(row, 'movie'))\n",
    "    predictions.append(prediction)\n",
    "    \n",
    "    count += 1\n",
    "    if count % 1000 == 0:\n",
    "        print(f'Done with {count} predictions')"
   ]
  },
  {
   "cell_type": "code",
   "execution_count": 21,
   "metadata": {},
   "outputs": [
    {
     "name": "stdout",
     "output_type": "stream",
     "text": [
      "0.7776659040906202\n",
      "0.9795850185615131\n"
     ]
    }
   ],
   "source": [
    "mae = mean_absolute_error(list(dfTest.rating.values), predictions)\n",
    "rmse = mean_squared_error(list(dfTest.rating.values), predictions, squared = False)\n",
    "print(mae)\n",
    "print(rmse)"
   ]
  },
  {
   "cell_type": "code",
   "execution_count": null,
   "metadata": {},
   "outputs": [],
   "source": []
  }
 ],
 "metadata": {
  "kernelspec": {
   "display_name": "ml",
   "language": "python",
   "name": "python3"
  },
  "language_info": {
   "codemirror_mode": {
    "name": "ipython",
    "version": 3
   },
   "file_extension": ".py",
   "mimetype": "text/x-python",
   "name": "python",
   "nbconvert_exporter": "python",
   "pygments_lexer": "ipython3",
   "version": "3.10.8"
  },
  "orig_nbformat": 4,
  "vscode": {
   "interpreter": {
    "hash": "08eac26dc1f80337b7d87e94e7159a5bad95c2e85f47efef91c61359b3afbfe9"
   }
  }
 },
 "nbformat": 4,
 "nbformat_minor": 2
}
